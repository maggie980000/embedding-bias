{
 "cells": [
  {
   "cell_type": "code",
   "execution_count": 1,
   "metadata": {},
   "outputs": [],
   "source": [
    "\n",
    "import numpy as np\n",
    "\n",
    "import matplotlib.pyplot as plt\n",
    "\n",
    "import pandas as pd\n",
    "import jieba\n",
    "import re\n",
    "\n",
    "from itertools import chain, combinations\n",
    "import json\n",
    "from sklearn.decomposition import PCA\n",
    "from sklearn.tree import DecisionTreeClassifier\n",
    "from sklearn.linear_model import LogisticRegression\n",
    "from sklearn.metrics import accuracy_score\n",
    "import random\n",
    "\n",
    "import numpy as np\n",
    "from collections import Counter\n",
    "\n",
    "from sklearn.model_selection import train_test_split\n",
    "from sklearn.metrics import accuracy_score\n",
    "\n",
    "from sklearn.naive_bayes import GaussianNB\n",
    "from sklearn import svm\n",
    "from sklearn.neighbors import KNeighborsClassifier\n",
    "\n",
    "from scipy.spatial.distance import cosine, euclidean\n",
    "\n",
    "import jax\n",
    "import jax.numpy as jnp\n",
    "from jax import grad, jit, random\n",
    "\n",
    "from sklearn.naive_bayes import GaussianNB\n",
    "from sklearn.neighbors import KNeighborsClassifier\n",
    "from sklearn.linear_model import LogisticRegression\n",
    "from sklearn import svm\n",
    "\n",
    "np.random.seed(0)"
   ]
  },
  {
   "cell_type": "markdown",
   "metadata": {},
   "source": [
    "## data "
   ]
  },
  {
   "cell_type": "code",
   "execution_count": 205,
   "metadata": {},
   "outputs": [],
   "source": [
    "\n",
    "ratings_1_neg = pd.read_csv('data/ratings_1_neg.csv')\n",
    "ratings_1_pos= pd.read_csv('data/ratings_1_pos.csv')\n",
    "ratings_2_neg = pd.read_csv('data/ratings_2_neg.csv')\n",
    "ratings_2_pos = pd.read_csv('data/ratings_2_pos.csv')\n"
   ]
  },
  {
   "cell_type": "code",
   "execution_count": 207,
   "metadata": {},
   "outputs": [
    {
     "name": "stdout",
     "output_type": "stream",
     "text": [
      "(10000,)\n",
      "(10000,)\n",
      "(10000,)\n",
      "(10000,)\n"
     ]
    }
   ],
   "source": [
    "\n",
    "#ratings_1= ratings.loc[ratings['movieId'].isin([22,23])]\n",
    "#ratings_1_neg= ratings_1[(ratings_1['like'] >=0) & (ratings_1['rating'] <=3)]\n",
    "\n",
    "\n",
    "#ratings_1_neg = ratings_1_neg.sample(10000, random_state=1)\n",
    "\n",
    "text_1_neg= ratings_1_neg['comment'].values\n",
    "rating_1_neg=ratings_1_neg['rating'].values\n",
    "print(text_1_neg.shape)\n",
    "\n",
    "\n",
    "#ratings_1= ratings.loc[ratings['movieId'].isin([22,23])]\n",
    "#ratings_1_pos= ratings_1[(ratings_1['like'] >=0) & (ratings_1['rating'] >=4)]\n",
    "#ratings_1_pos = ratings_1_pos.sample(10000, random_state=1)\n",
    "\n",
    "text_1_pos= ratings_1_pos['comment'].values\n",
    "rating_1_pos=ratings_1_pos['rating'].values\n",
    "print(text_1_pos.shape)\n",
    "\n",
    "#ratings_2= ratings.loc[ratings['movieId'].isin([11])]\n",
    "#ratings_2_neg= ratings_2[(ratings_2['like'] >=0) & (ratings_2['rating'] <=3)]\n",
    "#ratings_2_neg = ratings_2_neg.sample(10000, random_state=1)\n",
    "\n",
    "text_2_neg= ratings_2_neg['comment'].values\n",
    "rating_2_neg=ratings_2_neg['rating'].values\n",
    "print(text_2_neg.shape)\n",
    "\n",
    "\n",
    "#ratings_2= ratings.loc[ratings['movieId'].isin([11])]\n",
    "#ratings_2_pos= ratings_2[(ratings_2['like'] >=0) & (ratings_2['rating'] >=4)]\n",
    "#ratings_2_pos = ratings_2_pos.sample(10000, random_state=1)\n",
    "\n",
    "text_2_pos= ratings_2_pos['comment'].values\n",
    "rating_2_pos=ratings_2_pos['rating'].values\n",
    "print(text_2_pos.shape)"
   ]
  },
  {
   "cell_type": "code",
   "execution_count": 4,
   "metadata": {},
   "outputs": [],
   "source": [
    "text_1= np.concatenate([text_1_neg,text_1_pos])\n",
    "text_2= np.concatenate([text_2_neg,text_2_pos])\n",
    "\n",
    "sent_1= np.array([0]*len(text_1_neg)+[1]*len(text_1_pos))\n",
    "sent_2= np.array([0]*len(text_2_neg)+[1]*len(text_2_pos))"
   ]
  },
  {
   "cell_type": "code",
   "execution_count": 5,
   "metadata": {},
   "outputs": [
    {
     "name": "stderr",
     "output_type": "stream",
     "text": [
      "Building prefix dict from the default dictionary ...\n",
      "Loading model from cache /var/folders/sy/n2t2cdd16kb_hwrkbkw7b0dw0000gn/T/jieba.cache\n",
      "Loading model cost 0.291 seconds.\n",
      "Prefix dict has been built successfully.\n"
     ]
    }
   ],
   "source": [
    "def seg_context_sent(x):\n",
    "    regex_pattern = r\"[，。！？]\"\n",
    "    s = (re.split(regex_pattern,x))\n",
    "    return s\n",
    "\n",
    "def seg_cut(string):\n",
    "    seg_list = list(jieba.cut(string))\n",
    "    res=[]\n",
    "    for seg in seg_list:\n",
    "        if len(re.findall(r'[\\u4e00-\\u9fff]+',seg) )==0:\n",
    "            continue\n",
    "        res.append(seg)\n",
    "    return res\n",
    "\n",
    "def tokenize(text):\n",
    "    tokens=[]\n",
    "    for comm in text:\n",
    "        string_lst = seg_context_sent(comm)\n",
    "        for string in string_lst:\n",
    "            jieba_res = seg_cut(string)\n",
    "            jieba_res = list(filter(lambda x: len(x)>1,jieba_res))\n",
    "            tokens.append(jieba_res)\n",
    "    return tokens\n",
    "    \n",
    "tokens1=tokenize(text_1)\n",
    "tokens2=tokenize(text_2)"
   ]
  },
  {
   "cell_type": "code",
   "execution_count": 6,
   "metadata": {},
   "outputs": [],
   "source": [
    "\n",
    "def whole_tokenize(text):\n",
    "    tokens=[]\n",
    "    for comm in text:\n",
    "        cur=[]\n",
    "        string_lst = seg_context_sent(comm)\n",
    "        for string in string_lst:\n",
    "            jieba_res = seg_cut(string)\n",
    "            jieba_res = list(filter(lambda x: len(x)>1,jieba_res))\n",
    "            cur+=(jieba_res)\n",
    "        tokens.append(cur)\n",
    "    return tokens\n",
    "    \n",
    "whole_tokens1=whole_tokenize(text_1)\n",
    "whole_tokens2=whole_tokenize(text_2)"
   ]
  },
  {
   "cell_type": "code",
   "execution_count": 7,
   "metadata": {},
   "outputs": [],
   "source": [
    "def generate_word_context_pairs(tokens_list, window_size=5):\n",
    "    word_context_pairs = []\n",
    "    for tokens in tokens_list:\n",
    "        sequence_length = len(tokens)\n",
    "        for index, word in enumerate(tokens):\n",
    "            # Define the start and end index of the context window\n",
    "            start_index = max(0, index - window_size)\n",
    "            end_index = min(sequence_length, index + window_size + 1)\n",
    "\n",
    "            # Generate context words within the window, excluding the target word itself\n",
    "            context_words = tokens[start_index:index] + tokens[index + 1:end_index]\n",
    "\n",
    "            # Create word-context pairs for the target word with each of its context words\n",
    "            for context_word in context_words:\n",
    "                word_context_pairs.append((word, context_word))\n",
    "\n",
    "    return word_context_pairs\n",
    "\n",
    "\n",
    "word_context_pairs1 = generate_word_context_pairs(tokens1)\n",
    "word_context_pairs2 = generate_word_context_pairs(tokens2)"
   ]
  },
  {
   "cell_type": "code",
   "execution_count": 8,
   "metadata": {},
   "outputs": [
    {
     "name": "stdout",
     "output_type": "stream",
     "text": [
      "Number of top words: 829\n",
      "Number of updated word-context pairs: 339904\n",
      "Number of updated word-context pairs: 410112\n"
     ]
    }
   ],
   "source": [
    "\n",
    "\n",
    "def select_top_words(word_context_pairs1,  word_context_pairs2,least_freq=200):\n",
    "    word_frequencies1 = dict(Counter([word for pair in word_context_pairs1 for word in pair]))\n",
    "    word_frequencies2 = dict(Counter([word for pair in word_context_pairs2 for word in pair]))\n",
    "    top_words = set([word for word  in word_frequencies1 if word_frequencies1[word] >= least_freq]) & set([word for word in word_frequencies2 if word_frequencies2[word] >= least_freq])\n",
    "    return top_words\n",
    "\n",
    "def update_pairs(word_context_pairs, top_words):\n",
    "    # Filter word_context_pairs to only include pairs where both words are in the top words\n",
    "    updated_pairs = [(word, context) for word, context in word_context_pairs if word in top_words and context in top_words]\n",
    "    return updated_pairs\n",
    "\n",
    "top_words = select_top_words(word_context_pairs1,word_context_pairs2)\n",
    "\n",
    "print(f\"Number of top words: {len(top_words)}\")\n",
    "updated_word_context_pairs1= update_pairs(word_context_pairs1, top_words)\n",
    "print(f\"Number of updated word-context pairs: {len(updated_word_context_pairs1)}\")\n",
    "updated_word_context_pairs2= update_pairs(word_context_pairs2, top_words)\n",
    "print(f\"Number of updated word-context pairs: {len(updated_word_context_pairs2)}\")\n"
   ]
  },
  {
   "cell_type": "markdown",
   "metadata": {},
   "source": [
    "## methods"
   ]
  },
  {
   "cell_type": "markdown",
   "metadata": {},
   "source": [
    "### glove"
   ]
  },
  {
   "cell_type": "code",
   "execution_count": 9,
   "metadata": {},
   "outputs": [
    {
     "name": "stdout",
     "output_type": "stream",
     "text": [
      "Iteration 10: Total Loss = 2623.7911470705653\n",
      "Iteration 20: Total Loss = 1572.5619633220429\n",
      "Iteration 30: Total Loss = 1099.7564854310551\n",
      "Iteration 40: Total Loss = 859.3993278005089\n",
      "Iteration 50: Total Loss = 731.4889729095788\n",
      "Iteration 60: Total Loss = 656.2297181860804\n",
      "Iteration 70: Total Loss = 607.8600499801865\n",
      "Iteration 80: Total Loss = 574.5780112670025\n",
      "Iteration 90: Total Loss = 550.3902013176047\n",
      "Iteration 100: Total Loss = 532.0339375524771\n"
     ]
    },
    {
     "data": {
      "image/png": "[encoded data removed]",
      "text/plain": [
       "<Figure size 640x480 with 1 Axes>"
      ]
     },
     "metadata": {},
     "output_type": "display_data"
    }
   ],
   "source": [
    "\n",
    "\n",
    "\n",
    "def train_glove_with_weights(updated_word_context_pairs, top_words, vector_size=50, iterations=100, learning_rate=0.05, x_max=100, alpha=0.75):\n",
    "    filtered_pairs = [(word, context) for word, context in updated_word_context_pairs if word in top_words and context in top_words]\n",
    "    np.random.seed(0)\n",
    "    # Rebuild vocab based on filtered pairs\n",
    "    vocab = set(top_words)\n",
    "    vocab_size = len(vocab)\n",
    "    \n",
    "    # Mapping from words to indices\n",
    "    word_to_idx = {word: idx for idx, word in enumerate(vocab)}\n",
    "    np.random.seed(0)\n",
    "    # Initialize word vectors and biases\n",
    "    W = np.random.randn(vocab_size, vector_size) * 0.01\n",
    "    np.random.seed(1)\n",
    "    W_prime = np.random.randn(vocab_size, vector_size) * 0.01\n",
    "    np.random.seed(2)\n",
    "    b = np.random.randn(vocab_size) * 0.01  # Bias for words\n",
    "    np.random.seed(3)\n",
    "    b_prime = np.random.randn(vocab_size) * 0.01  # Bias for context words\n",
    "    \n",
    "    # Count co-occurrences within filtered pairs\n",
    "    co_occurrences = Counter(filtered_pairs)\n",
    "    \n",
    "    loss_tracking = []  # To track loss over iterations\n",
    "    \n",
    "    for iteration in range(iterations):\n",
    "        total_loss = 0  # Accumulate loss for this iteration\n",
    "        for (word, context), co_occurrence in co_occurrences.items():\n",
    "            word_idx = word_to_idx[word]\n",
    "            context_idx = word_to_idx[context]\n",
    "            \n",
    "            # Weighting function\n",
    "            weight =  (co_occurrence / x_max) ** alpha if co_occurrence < x_max else 1\n",
    "            \n",
    "            # Calculate predictions and errors\n",
    "            dot_product = np.dot(W[word_idx], W_prime[context_idx]) + b[word_idx] + b_prime[context_idx]\n",
    "            error = dot_product - np.log(co_occurrence)\n",
    "            \n",
    "            # Simplified GloVe loss for this pair (ignoring weighting for simplicity)\n",
    "            loss = weight * (error ** 2)\n",
    "            total_loss += loss\n",
    "            \n",
    "            # Gradient calculations for vectors and biases\n",
    "            grad_w = weight * error * W_prime[context_idx]\n",
    "            grad_w_prime = weight * error * W[word_idx]\n",
    "            grad_b = weight * error\n",
    "            grad_b_prime = weight * error\n",
    "        \n",
    "            # Update vectors and biases\n",
    "            W[word_idx] -= learning_rate * grad_w\n",
    "            W_prime[context_idx] -= learning_rate * grad_w_prime\n",
    "            b[word_idx] -= learning_rate * grad_b\n",
    "            b_prime[context_idx] -= learning_rate * grad_b_prime\n",
    "        if (iteration + 1) % 10 == 0:  # Check if the iteration is divisible by 10\n",
    "            print(f\"Iteration {iteration + 1}: Total Loss = {total_loss}\")\n",
    "        loss_tracking.append(total_loss)\n",
    "    # Average the word and context vectors for final embeddings\n",
    "    word_embeddings = {word: (W[word_to_idx[word]] + W_prime[word_to_idx[word]]) / 2 for word in vocab}\n",
    "    return word_embeddings, loss_tracking\n",
    "W1_glove,loss1_glove= train_glove_with_weights(updated_word_context_pairs1, top_words, vector_size=50, iterations=100, learning_rate=0.1, x_max=100, alpha=0.75)\n",
    "plt.plot(loss1_glove)\n",
    "plt.show()"
   ]
  },
  {
   "cell_type": "code",
   "execution_count": 10,
   "metadata": {},
   "outputs": [
    {
     "name": "stdout",
     "output_type": "stream",
     "text": [
      "Iteration 10: Total Loss = 3028.1118918981397\n",
      "Iteration 20: Total Loss = 1782.254464945246\n",
      "Iteration 30: Total Loss = 1282.8533789991536\n",
      "Iteration 40: Total Loss = 1046.027605366543\n",
      "Iteration 50: Total Loss = 923.6500523421505\n",
      "Iteration 60: Total Loss = 852.0162127399382\n",
      "Iteration 70: Total Loss = 805.747446935573\n",
      "Iteration 80: Total Loss = 773.5822988052538\n",
      "Iteration 90: Total Loss = 749.9101077586316\n",
      "Iteration 100: Total Loss = 731.7017387615837\n"
     ]
    },
    {
     "data": {
      "image/png": "[encoded data removed]",
      "text/plain": [
       "<Figure size 640x480 with 1 Axes>"
      ]
     },
     "metadata": {},
     "output_type": "display_data"
    }
   ],
   "source": [
    "W2_glove,loss2_glove= train_glove_with_weights(updated_word_context_pairs2, top_words,vector_size=50, iterations=100,learning_rate=0.1, x_max=100, alpha=0.75)\n",
    "plt.plot(loss2_glove)\n",
    "plt.show()"
   ]
  },
  {
   "cell_type": "markdown",
   "metadata": {},
   "source": [
    "### sgns"
   ]
  },
  {
   "cell_type": "code",
   "execution_count": 11,
   "metadata": {},
   "outputs": [
    {
     "name": "stdout",
     "output_type": "stream",
     "text": [
      "Iteration 1/30, Total Loss: 899312.8352519624\n",
      "Iteration 2/30, Total Loss: 843876.3047536094\n",
      "Iteration 3/30, Total Loss: 832984.086001495\n",
      "Iteration 4/30, Total Loss: 827209.5716394293\n",
      "Iteration 5/30, Total Loss: 823639.3552096004\n",
      "Iteration 6/30, Total Loss: 821758.6655993885\n",
      "Iteration 7/30, Total Loss: 820644.571620394\n",
      "Iteration 8/30, Total Loss: 819454.6132970265\n",
      "Iteration 9/30, Total Loss: 819622.0401008404\n",
      "Iteration 10/30, Total Loss: 819053.8007825157\n",
      "Iteration 11/30, Total Loss: 819010.6376927935\n",
      "Iteration 12/30, Total Loss: 818860.6818449732\n",
      "Iteration 13/30, Total Loss: 818817.7285804051\n",
      "Iteration 14/30, Total Loss: 818788.3489786582\n",
      "Iteration 15/30, Total Loss: 818445.1482284729\n",
      "Iteration 16/30, Total Loss: 818538.8356544733\n",
      "Iteration 17/30, Total Loss: 818722.0754400814\n",
      "Iteration 18/30, Total Loss: 818411.3721803887\n",
      "Iteration 19/30, Total Loss: 818628.008998565\n",
      "Iteration 20/30, Total Loss: 818796.6087611709\n",
      "Iteration 21/30, Total Loss: 818663.4543693805\n",
      "Iteration 22/30, Total Loss: 818586.7499317501\n",
      "Iteration 23/30, Total Loss: 818535.4409990988\n",
      "Iteration 24/30, Total Loss: 818615.9146522657\n",
      "Iteration 25/30, Total Loss: 818046.2763756783\n",
      "Iteration 26/30, Total Loss: 818773.4406562999\n",
      "Iteration 27/30, Total Loss: 818432.8161165336\n",
      "Iteration 28/30, Total Loss: 818106.4500724004\n",
      "Iteration 29/30, Total Loss: 819247.6293630899\n",
      "Iteration 30/30, Total Loss: 818492.9843565581\n"
     ]
    },
    {
     "data": {
      "text/plain": [
       "[<matplotlib.lines.Line2D at 0x2f95977d0>]"
      ]
     },
     "execution_count": 11,
     "metadata": {},
     "output_type": "execute_result"
    },
    {
     "data": {
      "image/png": "[encoded data removed]",
      "text/plain": [
       "<Figure size 640x480 with 1 Axes>"
      ]
     },
     "metadata": {},
     "output_type": "display_data"
    }
   ],
   "source": [
    "def train_sgns(updated_word_context_pairs, top_words, vector_size=50, iterations=100, learning_rate=0.05, negative_samples=5):\n",
    "    np.random.seed(1234)\n",
    "\n",
    "    # Convert top_words into indices and filter word_frequencies\n",
    "    word_to_idx = {word: i for i, word in enumerate(top_words)}\n",
    "    vocab_size = len(top_words)\n",
    "    word_frequencies = Counter([word for pair in updated_word_context_pairs for word in pair])\n",
    "\n",
    "    adjusted_freqs = np.array([word_frequencies.get(word, 0) for word in top_words]) ** 0.75\n",
    "    sampling_distribution = adjusted_freqs / adjusted_freqs.sum()\n",
    "    \n",
    "    np.random.seed(0)\n",
    "    W = np.random.rand(vocab_size, vector_size) * 0.01  # Word vector\n",
    "    np.random.seed(1)\n",
    "    W_prime = np.random.rand(vocab_size, vector_size) * 0.01  # Context word vectors\n",
    "    losses = []\n",
    "    \n",
    "    for iteration in range(iterations):\n",
    "        total_loss = 0\n",
    "        for word, context in updated_word_context_pairs:\n",
    "            if word not in word_to_idx or context not in word_to_idx:\n",
    "                continue  # Skip pairs not in top_words\n",
    "\n",
    "            word_id, context_id = word_to_idx[word], word_to_idx[context]\n",
    "\n",
    "            # Sample negative words based on frequency\n",
    "            sampled_negatives = np.random.choice(vocab_size, negative_samples, p=sampling_distribution)\n",
    "            \n",
    "            labels = np.array([1] + [0] * negative_samples)\n",
    "            context_ids = np.array([context_id] + list(sampled_negatives))\n",
    "            \n",
    "            u = W[word_id]\n",
    "            v = W_prime[context_ids]\n",
    "            \n",
    "            scores = np.dot(v, u)\n",
    "            sigmoid_scores = 1 / (1 + np.exp(-scores))\n",
    "            loss = - np.sum(np.log(sigmoid_scores) * labels + np.log(1 - sigmoid_scores) * (1 - labels))\n",
    "            total_loss += loss\n",
    "            \n",
    "            # Compute gradients\n",
    "            grad = (sigmoid_scores - labels).reshape(-1, 1) * u\n",
    "            grad_u = np.sum((sigmoid_scores - labels).reshape(-1, 1) * v, axis=0)\n",
    "            \n",
    "            # Update embeddings\n",
    "            W[word_id] -= learning_rate * grad_u\n",
    "            for i, context_id in enumerate(context_ids):\n",
    "                W_prime[context_id] -= learning_rate * grad[i]\n",
    "                \n",
    "        losses.append(total_loss)\n",
    "        #if (iteration + 1) % 10 == 0:\n",
    "        print(f\"Iteration {iteration + 1}/{iterations}, Total Loss: {total_loss}\")\n",
    "            \n",
    "    W_sgns={v: W[word_to_idx[v]] for v in top_words}\n",
    "    return W_sgns, losses\n",
    "\n",
    "W1_sgns,loss1_sgns= train_sgns(updated_word_context_pairs1, top_words, vector_size=50, iterations=30, learning_rate=0.05, negative_samples=5)\n",
    "plt.plot(loss1_sgns)"
   ]
  },
  {
   "cell_type": "code",
   "execution_count": 12,
   "metadata": {},
   "outputs": [
    {
     "name": "stdout",
     "output_type": "stream",
     "text": [
      "Iteration 1/30, Total Loss: 1066003.8573642557\n",
      "Iteration 2/30, Total Loss: 1003450.1452741649\n",
      "Iteration 3/30, Total Loss: 993694.8626728647\n",
      "Iteration 4/30, Total Loss: 988812.4577687529\n",
      "Iteration 5/30, Total Loss: 986286.3925867223\n",
      "Iteration 6/30, Total Loss: 984597.4289178217\n",
      "Iteration 7/30, Total Loss: 983909.2156050449\n",
      "Iteration 8/30, Total Loss: 983196.3262653676\n",
      "Iteration 9/30, Total Loss: 982958.5852347539\n",
      "Iteration 10/30, Total Loss: 982857.0581495464\n",
      "Iteration 11/30, Total Loss: 982239.632036334\n",
      "Iteration 12/30, Total Loss: 982627.683690366\n",
      "Iteration 13/30, Total Loss: 982311.2539165522\n",
      "Iteration 14/30, Total Loss: 982775.3927444234\n",
      "Iteration 15/30, Total Loss: 981997.8651037639\n",
      "Iteration 16/30, Total Loss: 982600.3357031541\n",
      "Iteration 17/30, Total Loss: 982260.1135797402\n",
      "Iteration 18/30, Total Loss: 982452.7592787783\n",
      "Iteration 19/30, Total Loss: 982316.980973385\n",
      "Iteration 20/30, Total Loss: 982098.4600999738\n",
      "Iteration 21/30, Total Loss: 982870.5892605531\n",
      "Iteration 22/30, Total Loss: 982153.4755814349\n",
      "Iteration 23/30, Total Loss: 982501.5665074654\n",
      "Iteration 24/30, Total Loss: 982659.1009618925\n",
      "Iteration 25/30, Total Loss: 982268.0948544329\n",
      "Iteration 26/30, Total Loss: 982303.9174637911\n",
      "Iteration 27/30, Total Loss: 982660.0909215647\n",
      "Iteration 28/30, Total Loss: 982236.6608296925\n",
      "Iteration 29/30, Total Loss: 982167.244987482\n",
      "Iteration 30/30, Total Loss: 982071.309225932\n"
     ]
    },
    {
     "data": {
      "text/plain": [
       "[<matplotlib.lines.Line2D at 0x2f9b24a90>]"
      ]
     },
     "execution_count": 12,
     "metadata": {},
     "output_type": "execute_result"
    },
    {
     "data": {
      "image/png": "[encoded data removed]",
      "text/plain": [
       "<Figure size 640x480 with 1 Axes>"
      ]
     },
     "metadata": {},
     "output_type": "display_data"
    }
   ],
   "source": [
    "W2_sgns,loss2_sgns= train_sgns(updated_word_context_pairs2, top_words, vector_size=50, iterations=30, learning_rate=0.05, negative_samples=5)\n",
    "plt.plot(loss2_sgns)"
   ]
  },
  {
   "cell_type": "markdown",
   "metadata": {},
   "source": [
    "### svd ppmi"
   ]
  },
  {
   "cell_type": "code",
   "execution_count": 13,
   "metadata": {},
   "outputs": [],
   "source": [
    "\n",
    "from scipy.sparse import csr_matrix\n",
    "from scipy.sparse.linalg import svds\n",
    "from collections import Counter\n",
    "import math\n",
    "\n",
    "def build_shifted_pmi_matrix(updated_word_context_pairs, top_words, negative_samples):\n",
    "    word_to_idx = {word: i for i, word in enumerate(top_words)}\n",
    "    idx_to_word= {i: word for i, word in enumerate(top_words)}\n",
    "    vocab_size = len(top_words)\n",
    "\n",
    "    # Initialize counters\n",
    "    word_context_count = Counter(updated_word_context_pairs)\n",
    "    word_count = Counter([pair[0] for pair in updated_word_context_pairs])\n",
    "    context_count = Counter([pair[1] for pair in updated_word_context_pairs])\n",
    "    total_count = sum(word_context_count.values())\n",
    "\n",
    "    # Initialize sparse matrix\n",
    "    row = []\n",
    "    col = []\n",
    "    data = []\n",
    "    \n",
    "    # Ensure positive arguments for logarithm\n",
    "    for (word, context), w_c_count in word_context_count.items():\n",
    "        if word in word_to_idx and context in word_to_idx:\n",
    "            row_idx = word_to_idx[word]\n",
    "            col_idx = word_to_idx[context]\n",
    "            joint_prob = w_c_count / total_count\n",
    "            word_prob = word_count[word] / total_count\n",
    "            context_prob = context_count[context] / total_count\n",
    "\n",
    "            # Calculate PMI, ensuring positive arguments for log\n",
    "            if joint_prob > 0 and word_prob > 0 and context_prob > 0:\n",
    "                pmi = math.log(joint_prob / (word_prob * context_prob), 2)\n",
    "                shifted_pmi = max(pmi - math.log(negative_samples, 2), 0)  # Apply shifting and ensure non-negativity\n",
    "            else:\n",
    "                shifted_pmi = 0\n",
    "\n",
    "            row.append(row_idx)\n",
    "            col.append(col_idx)\n",
    "            data.append(shifted_pmi)\n",
    "\n",
    "    pmi_matrix = csr_matrix((data, (row, col)), shape=(vocab_size, vocab_size))\n",
    "    return idx_to_word, pmi_matrix\n",
    "\n",
    "def train_embeddings_svd(updated_word_context_pairs, top_words, vector_size, negative_samples, gamma=1/2):\n",
    "    # Build shifted PMI matrix\n",
    "    idx_to_word,shifted_pmi_matrix = build_shifted_pmi_matrix(updated_word_context_pairs, top_words, negative_samples)\n",
    "\n",
    "    # Perform SVD\n",
    "    u, s, vt = svds(shifted_pmi_matrix, k=vector_size)\n",
    "\n",
    "    # Compute word embeddings\n",
    "   \n",
    "        \n",
    "    embeddings = u   @ np.diag((s)**(gamma))\n",
    "    word2embedding = {idx_to_word[i]: embeddings[i] for i in range(embeddings.shape[0])}\n",
    "    \n",
    "    return word2embedding\n",
    "\n",
    "W1_svd_k1_g0 = train_embeddings_svd(updated_word_context_pairs1, top_words, vector_size=50, negative_samples=1,gamma=0)\n",
    "W2_svd_k1_g0 = train_embeddings_svd(updated_word_context_pairs2, top_words, vector_size=50, negative_samples=1,gamma=0)\n",
    "\n",
    "\n",
    "W1_svd_k5_g0 = train_embeddings_svd(updated_word_context_pairs1, top_words, vector_size=50, negative_samples=5,gamma=0)\n",
    "W2_svd_k5_g0 = train_embeddings_svd(updated_word_context_pairs2, top_words, vector_size=50, negative_samples=5,gamma=0)"
   ]
  },
  {
   "cell_type": "markdown",
   "metadata": {},
   "source": [
    "### ppmi"
   ]
  },
  {
   "cell_type": "code",
   "execution_count": 14,
   "metadata": {},
   "outputs": [],
   "source": [
    "\n",
    "def train_embeddings_ppmi(updated_word_context_pairs, top_words, negative_samples):\n",
    "    word_to_idx = {word: i for i, word in enumerate(top_words)}\n",
    "    idx_to_word= {i: word for i, word in enumerate(top_words)}\n",
    "    vocab_size = len(top_words)\n",
    "\n",
    "    # Initialize counters\n",
    "    word_context_count = Counter(updated_word_context_pairs)\n",
    "    word_count = Counter([pair[0] for pair in updated_word_context_pairs])\n",
    "    context_count = Counter([pair[1] for pair in updated_word_context_pairs])\n",
    "    total_count = sum(word_context_count.values())\n",
    "\n",
    "    # Initialize sparse matrix\n",
    "    row = []\n",
    "    col = []\n",
    "    data = []\n",
    "    \n",
    "    # Ensure positive arguments for logarithm\n",
    "    for (word, context), w_c_count in word_context_count.items():\n",
    "        if word in word_to_idx and context in word_to_idx:\n",
    "            row_idx = word_to_idx[word]\n",
    "            col_idx = word_to_idx[context]\n",
    "            joint_prob = w_c_count / total_count\n",
    "            word_prob = word_count[word] / total_count\n",
    "            context_prob = context_count[context] / total_count\n",
    "\n",
    "            # Calculate PMI, ensuring positive arguments for log\n",
    "            if joint_prob > 0 and word_prob > 0 and context_prob > 0:\n",
    "                pmi = math.log(joint_prob / (word_prob * context_prob), 2)\n",
    "                shifted_pmi = max(pmi - math.log(negative_samples, 2), 0)  # Apply shifting and ensure non-negativity\n",
    "            else:\n",
    "                shifted_pmi = 0\n",
    "\n",
    "            row.append(row_idx)\n",
    "            col.append(col_idx)\n",
    "            data.append(shifted_pmi)\n",
    "\n",
    "    pmi_matrix = csr_matrix((data, (row, col)), shape=(vocab_size, vocab_size)).toarray()\n",
    "    word2embedding = {idx_to_word[i]: pmi_matrix[i] for i in range(pmi_matrix.shape[0])}\n",
    "    return word2embedding\n",
    "\n",
    "W1_ppmi_k1 = train_embeddings_ppmi(updated_word_context_pairs1, top_words, negative_samples=1)\n",
    "W2_ppmi_k1  = train_embeddings_ppmi(updated_word_context_pairs2, top_words, negative_samples=1)\n",
    "\n",
    "W1_ppmi_k5 = train_embeddings_ppmi(updated_word_context_pairs1, top_words, negative_samples=5)\n",
    "W2_ppmi_k5  = train_embeddings_ppmi(updated_word_context_pairs2, top_words, negative_samples=5)\n",
    "\n"
   ]
  },
  {
   "cell_type": "markdown",
   "metadata": {},
   "source": [
    "### text2vec"
   ]
  },
  {
   "cell_type": "code",
   "execution_count": 15,
   "metadata": {},
   "outputs": [
    {
     "name": "stderr",
     "output_type": "stream",
     "text": [
      "/Users/baojiaqi/Downloads/notebooks_export/.venv/lib/python3.11/site-packages/tqdm/auto.py:21: TqdmWarning: IProgress not found. Please update jupyter and ipywidgets. See https://ipywidgets.readthedocs.io/en/stable/user_install.html\n",
      "  from .autonotebook import tqdm as notebook_tqdm\n",
      "\u001b[32m2024-04-09 15:13:50.512\u001b[0m | \u001b[34m\u001b[1mDEBUG   \u001b[0m | \u001b[36mtext2vec.sentence_model\u001b[0m:\u001b[36m__init__\u001b[0m:\u001b[36m80\u001b[0m - \u001b[34m\u001b[1mUse device: cpu\u001b[0m\n"
     ]
    }
   ],
   "source": [
    "from text2vec import SentenceModel\n",
    "text2vecmodel= SentenceModel()"
   ]
  },
  {
   "cell_type": "code",
   "execution_count": 16,
   "metadata": {},
   "outputs": [],
   "source": [
    "W_text2vec = {w:text2vecmodel.encode(w) for w in top_words}"
   ]
  },
  {
   "cell_type": "markdown",
   "metadata": {},
   "source": [
    "## Evaluations"
   ]
  },
  {
   "cell_type": "code",
   "execution_count": 17,
   "metadata": {},
   "outputs": [],
   "source": [
    "\n",
    "embeddings = {\n",
    "    'Glove W1': W1_glove,\n",
    "    'SGNS W1': W1_sgns,\n",
    "    \n",
    "    'SVD W1 k1 g0': W1_svd_k1_g0,\n",
    "    'SVD W1 k5 g0': W1_svd_k5_g0,\n",
    "   \n",
    "\n",
    "    'PPMI W1 k1': W1_ppmi_k1,\n",
    "    'PPMI W1 k5': W1_ppmi_k5,\n",
    "\n",
    "    'Onehot W1': {word: np.eye(len(top_words))[i] for i, word in enumerate(top_words)},  # W1_onehot\n",
    "    'text2vec W1': W_text2vec,\n",
    "    \n",
    "    'Glove W2': W2_glove,\n",
    "    'SGNS W2': W2_sgns,\n",
    "    'SVD W2 k1 g0': W2_svd_k1_g0,\n",
    "    'SVD W2 k5 g0': W2_svd_k5_g0,\n",
    "   \n",
    "    \n",
    "    'PPMI W2 k1': W2_ppmi_k1,\n",
    "    'PPMI W2 k5': W2_ppmi_k5,\n",
    " \n",
    "    'Onehot W2': {word: np.eye(len(top_words))[i] for i, word in enumerate(top_words)},   # W2_onehot\n",
    "    'text2vec W2': W_text2vec,\n",
    "}\n",
    "\n",
    "classifiers = {\n",
    "    #'SVM': svm.SVC(kernel='linear',max) ,\n",
    "    'LogisticRegression': LogisticRegression(max_iter=1000, penalty=None),\n",
    "    #'GaussianNB': GaussianNB(),\n",
    "    'KNeighbors': KNeighborsClassifier(weights='distance', n_neighbors=10),\n",
    "    \n",
    "    \n",
    "}\n",
    "\n",
    "# Data and labels for each token set\n",
    "data_sets = {\n",
    "    'Token Set 1': (whole_tokens1, sent_1),\n",
    "    'Token Set 2': (whole_tokens2, sent_2)\n",
    "}"
   ]
  },
  {
   "cell_type": "code",
   "execution_count": 18,
   "metadata": {},
   "outputs": [],
   "source": [
    "def docs_to_frequency_matrix(docs, top_words):\n",
    "    frequency_matrix = np.zeros((len(docs), len(top_words)), dtype=int)\n",
    "    \n",
    "    # Create a mapping from top words to their indices for easy access\n",
    "    word_to_index = {word: i for i, word in enumerate(top_words)}\n",
    "    \n",
    "    # Iterate over each document\n",
    "    for doc_idx, doc in enumerate(docs):\n",
    "        # Count the frequency of each word in the document\n",
    "        word_count = {}\n",
    "        for word in doc:\n",
    "            if word in top_words:\n",
    "                if word not in word_count:\n",
    "                    word_count[word] = 0\n",
    "                word_count[word] += 1\n",
    "                \n",
    "        # Update the frequency matrix\n",
    "        for word, count in word_count.items():\n",
    "            word_idx = word_to_index[word]\n",
    "            frequency_matrix[doc_idx, word_idx] = count\n",
    "            \n",
    "    return frequency_matrix\n"
   ]
  },
  {
   "cell_type": "markdown",
   "metadata": {},
   "source": [
    "### words similarity"
   ]
  },
  {
   "cell_type": "code",
   "execution_count": 19,
   "metadata": {},
   "outputs": [],
   "source": [
    "def compute_similarity_matrix(embeddings,l2norm=True):\n",
    "    words = list(embeddings.keys())\n",
    "    similarity_matrix = {}\n",
    "    for i, word1 in enumerate(words):\n",
    "        for word2 in words[i+1:]:  # Avoid repeating comparisons\n",
    "            if l2norm:\n",
    "                # let's normalize embeddings[word1] into unit vector\n",
    "                normalized_word1 = embeddings[word1] / np.linalg.norm(embeddings[word1])\n",
    "                normalized_word2 = embeddings[word2] / np.linalg.norm(embeddings[word2])\n",
    "                similarity = -np.linalg.norm(normalized_word1  - normalized_word2)\n",
    "            else:\n",
    "                similarity = np.dot(embeddings[word1], embeddings[word2]) / (np.linalg.norm(embeddings[word1]) * np.linalg.norm(embeddings[word2]))\n",
    "            similarity_matrix[(word1, word2)] = similarity\n",
    "    return similarity_matrix\n",
    "\n",
    "from scipy.stats import pearsonr\n",
    "def similarity_list_correlation(similarity_list1, similarity_list2):\n",
    "    common_pairs = set(similarity_list1.keys()) & set(similarity_list2.keys())\n",
    "    if not common_pairs:\n",
    "        return None \n",
    "    \n",
    "    similarities1 = [similarity_list1[pair] for pair in common_pairs]\n",
    "    similarities2 = [similarity_list2[pair] for pair in common_pairs]\n",
    "    \n",
    "    correlation, _ = pearsonr(similarities1, similarities2)\n",
    "\n",
    "    return correlation\n",
    "\n",
    "def compute_pearson(similarity_matrix_truth, embeddings2,l2norm=True):\n",
    "   \n",
    "    similarity_matrix2 = compute_similarity_matrix(embeddings2,l2norm)\n",
    "    return similarity_list_correlation(similarity_matrix_truth, similarity_matrix2)\n",
    "\n"
   ]
  },
  {
   "cell_type": "code",
   "execution_count": 179,
   "metadata": {},
   "outputs": [
    {
     "name": "stdout",
     "output_type": "stream",
     "text": [
      "Glove W1 with Similarity:  -0.01972587662964297\n",
      "SGNS W1 with Similarity:  0.06910842364744176\n",
      "SVD W1 k1 g0 with Similarity:  0.04798086244324742\n",
      "SVD W1 k5 g0 with Similarity:  0.045189936520165626\n",
      "PPMI W1 k1 with Similarity:  0.15460008090252397\n",
      "PPMI W1 k5 with Similarity:  0.03057489304113152\n",
      "text2vec W1 with Similarity:  1.0\n",
      "Glove W2 with Similarity:  -0.009304099811309922\n",
      "SGNS W2 with Similarity:  0.08282353162773562\n",
      "SVD W2 k1 g0 with Similarity:  0.04894317236901321\n",
      "SVD W2 k5 g0 with Similarity:  0.04547853696527063\n",
      "PPMI W2 k1 with Similarity:  0.1426308781230821\n",
      "PPMI W2 k5 with Similarity:  0.026336332671208915\n",
      "text2vec W2 with Similarity:  1.0\n"
     ]
    }
   ],
   "source": [
    "similarity_matrix_text2vec= compute_similarity_matrix(W_text2vec,l2norm=False)\n",
    "for embedding_name, embedding in embeddings.items():\n",
    "    if 'onehot' not in embedding_name.lower():\n",
    "        similarity = compute_pearson(similarity_matrix_text2vec, embedding, l2norm=False)\n",
    "        print(f\"{embedding_name} with Similarity:  {similarity}\")"
   ]
  },
  {
   "cell_type": "markdown",
   "metadata": {},
   "source": [
    "### sentiment classification"
   ]
  },
  {
   "cell_type": "markdown",
   "metadata": {},
   "source": [
    "#### lda"
   ]
  },
  {
   "cell_type": "code",
   "execution_count": 22,
   "metadata": {},
   "outputs": [],
   "source": [
    "import lda\n",
    "\n",
    "def preprocess_docs_topic_model(docs, sentiments, top_words, classifier, test_size=0.2, random_state=42, least_words=1):\n",
    "    filtered_sentiments=[]\n",
    "    filtered_docs=[]\n",
    "    for i, doc in enumerate(docs):\n",
    "        if len([word for word in doc if word in top_words]) >= least_words:\n",
    "            filtered_docs.append(doc)\n",
    "            filtered_sentiments.append(sentiments[i])  \n",
    "    print(f\" number of pos comments {len([senti for senti in filtered_sentiments if senti==1])}\")\n",
    "    print(f\" number of neg comments {len([senti for senti in filtered_sentiments if senti==0])}\")\n",
    "    print(f\"average length of filtered docs {np.mean([len(doc) for doc in filtered_docs])}\")\n",
    "    model = lda.LDA(n_topics=50, n_iter=200, random_state=1)\n",
    "    \n",
    "    frequency_matrix = docs_to_frequency_matrix(filtered_docs, top_words)\n",
    "\n",
    "    model.fit(frequency_matrix.astype(int))\n",
    "    doc2pi_topics =model.doc_topic_\n",
    "    \n",
    "            \n",
    "    # Split the data into train and test sets\n",
    "    X_train, X_test, y_train, y_test = train_test_split(doc2pi_topics,filtered_sentiments, test_size=test_size, random_state=random_state)\n",
    "    \n",
    "    # Train the classifier\n",
    "    classifier.fit(X_train, y_train)\n",
    " \n",
    "    #y_pred = classifier.predict_proba(X_test)\n",
    "    \n",
    "    y_pred = classifier.predict(X_test)\n",
    "    test_accuracy = accuracy_score(y_test, y_pred)\n",
    "    #log_loss_score = log_loss(y_test, y_pred)\n",
    "    return test_accuracy"
   ]
  },
  {
   "cell_type": "code",
   "execution_count": 23,
   "metadata": {},
   "outputs": [
    {
     "name": "stderr",
     "output_type": "stream",
     "text": [
      "INFO:lda:n_documents: 17768\n",
      "INFO:lda:vocab_size: 829\n",
      "INFO:lda:n_words: 132554\n",
      "INFO:lda:n_topics: 50\n",
      "INFO:lda:n_iter: 200\n"
     ]
    },
    {
     "name": "stdout",
     "output_type": "stream",
     "text": [
      "\n",
      "Using Classifier: LogisticRegression\n",
      " number of pos comments 9128\n",
      " number of neg comments 8640\n",
      "average length of filtered docs 12.491670418730301\n"
     ]
    },
    {
     "name": "stderr",
     "output_type": "stream",
     "text": [
      "INFO:lda:<0> log likelihood: -1503254\n",
      "INFO:lda:<10> log likelihood: -1064366\n",
      "INFO:lda:<20> log likelihood: -1002593\n",
      "INFO:lda:<30> log likelihood: -975265\n",
      "INFO:lda:<40> log likelihood: -961665\n",
      "INFO:lda:<50> log likelihood: -952421\n",
      "INFO:lda:<60> log likelihood: -945696\n",
      "INFO:lda:<70> log likelihood: -939937\n",
      "INFO:lda:<80> log likelihood: -936385\n",
      "INFO:lda:<90> log likelihood: -934426\n",
      "INFO:lda:<100> log likelihood: -932828\n",
      "INFO:lda:<110> log likelihood: -930204\n",
      "INFO:lda:<120> log likelihood: -928719\n",
      "INFO:lda:<130> log likelihood: -927510\n",
      "INFO:lda:<140> log likelihood: -926788\n",
      "INFO:lda:<150> log likelihood: -925151\n",
      "INFO:lda:<160> log likelihood: -925524\n",
      "INFO:lda:<170> log likelihood: -924453\n",
      "INFO:lda:<180> log likelihood: -924028\n",
      "INFO:lda:<190> log likelihood: -923136\n",
      "INFO:lda:<199> log likelihood: -922970\n",
      "INFO:lda:n_documents: 18168\n",
      "INFO:lda:vocab_size: 829\n",
      "INFO:lda:n_words: 160606\n",
      "INFO:lda:n_topics: 50\n",
      "INFO:lda:n_iter: 200\n"
     ]
    },
    {
     "name": "stdout",
     "output_type": "stream",
     "text": [
      "Data set 1 with  Acc:  0.6536297129994373\n",
      " number of pos comments 8913\n",
      " number of neg comments 9255\n",
      "average length of filtered docs 14.87373403786878\n"
     ]
    },
    {
     "name": "stderr",
     "output_type": "stream",
     "text": [
      "INFO:lda:<0> log likelihood: -1818714\n",
      "INFO:lda:<10> log likelihood: -1297640\n",
      "INFO:lda:<20> log likelihood: -1215558\n",
      "INFO:lda:<30> log likelihood: -1182587\n",
      "INFO:lda:<40> log likelihood: -1168239\n",
      "INFO:lda:<50> log likelihood: -1157817\n",
      "INFO:lda:<60> log likelihood: -1150175\n",
      "INFO:lda:<70> log likelihood: -1147314\n",
      "INFO:lda:<80> log likelihood: -1143100\n",
      "INFO:lda:<90> log likelihood: -1138359\n",
      "INFO:lda:<100> log likelihood: -1135886\n",
      "INFO:lda:<110> log likelihood: -1134004\n",
      "INFO:lda:<120> log likelihood: -1131371\n",
      "INFO:lda:<130> log likelihood: -1130777\n",
      "INFO:lda:<140> log likelihood: -1130703\n",
      "INFO:lda:<150> log likelihood: -1128561\n",
      "INFO:lda:<160> log likelihood: -1127427\n",
      "INFO:lda:<170> log likelihood: -1128049\n",
      "INFO:lda:<180> log likelihood: -1127526\n",
      "INFO:lda:<190> log likelihood: -1126955\n",
      "INFO:lda:<199> log likelihood: -1125332\n",
      "INFO:lda:n_documents: 17768\n",
      "INFO:lda:vocab_size: 829\n",
      "INFO:lda:n_words: 132554\n",
      "INFO:lda:n_topics: 50\n",
      "INFO:lda:n_iter: 200\n"
     ]
    },
    {
     "name": "stdout",
     "output_type": "stream",
     "text": [
      "Data set 2 with  Acc:  0.6719867914144194\n",
      "\n",
      "Using Classifier: KNeighbors\n",
      " number of pos comments 9128\n",
      " number of neg comments 8640\n",
      "average length of filtered docs 12.491670418730301\n"
     ]
    },
    {
     "name": "stderr",
     "output_type": "stream",
     "text": [
      "INFO:lda:<0> log likelihood: -1503254\n",
      "INFO:lda:<10> log likelihood: -1064366\n",
      "INFO:lda:<20> log likelihood: -1002593\n",
      "INFO:lda:<30> log likelihood: -975265\n",
      "INFO:lda:<40> log likelihood: -961665\n",
      "INFO:lda:<50> log likelihood: -952421\n",
      "INFO:lda:<60> log likelihood: -945696\n",
      "INFO:lda:<70> log likelihood: -939937\n",
      "INFO:lda:<80> log likelihood: -936385\n",
      "INFO:lda:<90> log likelihood: -934426\n",
      "INFO:lda:<100> log likelihood: -932828\n",
      "INFO:lda:<110> log likelihood: -930204\n",
      "INFO:lda:<120> log likelihood: -928719\n",
      "INFO:lda:<130> log likelihood: -927510\n",
      "INFO:lda:<140> log likelihood: -926788\n",
      "INFO:lda:<150> log likelihood: -925151\n",
      "INFO:lda:<160> log likelihood: -925524\n",
      "INFO:lda:<170> log likelihood: -924453\n",
      "INFO:lda:<180> log likelihood: -924028\n",
      "INFO:lda:<190> log likelihood: -923136\n",
      "INFO:lda:<199> log likelihood: -922970\n",
      "INFO:lda:n_documents: 18168\n",
      "INFO:lda:vocab_size: 829\n",
      "INFO:lda:n_words: 160606\n",
      "INFO:lda:n_topics: 50\n",
      "INFO:lda:n_iter: 200\n"
     ]
    },
    {
     "name": "stdout",
     "output_type": "stream",
     "text": [
      "Data set 1 with  Acc:  0.6041080472706809\n",
      " number of pos comments 8913\n",
      " number of neg comments 9255\n",
      "average length of filtered docs 14.87373403786878\n"
     ]
    },
    {
     "name": "stderr",
     "output_type": "stream",
     "text": [
      "INFO:lda:<0> log likelihood: -1818714\n",
      "INFO:lda:<10> log likelihood: -1297640\n",
      "INFO:lda:<20> log likelihood: -1215558\n",
      "INFO:lda:<30> log likelihood: -1182587\n",
      "INFO:lda:<40> log likelihood: -1168239\n",
      "INFO:lda:<50> log likelihood: -1157817\n",
      "INFO:lda:<60> log likelihood: -1150175\n",
      "INFO:lda:<70> log likelihood: -1147314\n",
      "INFO:lda:<80> log likelihood: -1143100\n",
      "INFO:lda:<90> log likelihood: -1138359\n",
      "INFO:lda:<100> log likelihood: -1135886\n",
      "INFO:lda:<110> log likelihood: -1134004\n",
      "INFO:lda:<120> log likelihood: -1131371\n",
      "INFO:lda:<130> log likelihood: -1130777\n",
      "INFO:lda:<140> log likelihood: -1130703\n",
      "INFO:lda:<150> log likelihood: -1128561\n",
      "INFO:lda:<160> log likelihood: -1127427\n",
      "INFO:lda:<170> log likelihood: -1128049\n",
      "INFO:lda:<180> log likelihood: -1127526\n",
      "INFO:lda:<190> log likelihood: -1126955\n",
      "INFO:lda:<199> log likelihood: -1125332\n"
     ]
    },
    {
     "name": "stdout",
     "output_type": "stream",
     "text": [
      "Data set 2 with  Acc:  0.6219042377545404\n"
     ]
    }
   ],
   "source": [
    "\n",
    "# Iterate over classifiers\n",
    "for classifier_name, classifier in classifiers.items():\n",
    "    print(f\"\\nUsing Classifier: {classifier_name}\")\n",
    "   \n",
    "    test_accuracy = preprocess_docs_topic_model(whole_tokens1, sent_1,top_words, classifier)\n",
    "    \n",
    "    print(f\"Data set 1 with  Acc:  {test_accuracy}\")\n",
    "    \n",
    "    test_accuracy = preprocess_docs_topic_model(whole_tokens2, sent_2, top_words,classifier)\n",
    "    \n",
    "    print(f\"Data set 2 with  Acc:  {test_accuracy}\")"
   ]
  },
  {
   "cell_type": "code",
   "execution_count": 24,
   "metadata": {},
   "outputs": [],
   "source": [
    "\n",
    "from sklearn.metrics import log_loss\n",
    "def preprocess_docs(docs, word_embeddings, sentiments,top_words, classifier, test_size=0.2, random_state=42, least_words=1):\n",
    "    doc_embeddings = []\n",
    "    filtered_sentiments = []  # To keep track of sentiments for docs with more than lease_words words\n",
    "     \n",
    "    for i, doc in enumerate(docs):\n",
    "        \n",
    "        if len([word for word in doc if word in top_words]) >= least_words:\n",
    "            embeddings = np.array([word_embeddings[word] for word in doc if word in word_embeddings])\n",
    "           \n",
    "            avg_embedding = embeddings.mean(axis=0)\n",
    "          \n",
    "            doc_embeddings.append(avg_embedding)\n",
    "            filtered_sentiments.append(sentiments[i])  \n",
    "    \n",
    "    \n",
    "    \n",
    "    X_train, X_test, y_train, y_test = train_test_split(doc_embeddings, filtered_sentiments, test_size=test_size, random_state=random_state)\n",
    "    \n",
    "\n",
    "    classifier.fit(X_train, y_train)\n",
    " \n",
    "    #y_pred = classifier.predict_proba(X_test)\n",
    "    \n",
    "    y_pred = classifier.predict(X_test)\n",
    "    test_accuracy = accuracy_score(y_test, y_pred)\n",
    "    #log_loss_score = log_loss(y_test, y_pred)\n",
    "    return test_accuracy\n"
   ]
  },
  {
   "cell_type": "code",
   "execution_count": 25,
   "metadata": {},
   "outputs": [
    {
     "name": "stdout",
     "output_type": "stream",
     "text": [
      "\n",
      "Using Classifier: LogisticRegression\n",
      "Glove W1 with Token Set 1 Acc:  0.6848621271806415\n",
      "SGNS W1 with Token Set 1 Acc:  0.6775464265616207\n",
      "SVD W1 k1 g0 with Token Set 1 Acc:  0.6913337084974677\n",
      "SVD W1 k5 g0 with Token Set 1 Acc:  0.6637591446257738\n",
      "PPMI W1 k1 with Token Set 1 Acc:  0.7326955543050084\n",
      "PPMI W1 k5 with Token Set 1 Acc:  0.729037703995498\n",
      "Onehot W1 with Token Set 1 Acc:  0.7304445694991559\n"
     ]
    },
    {
     "name": "stderr",
     "output_type": "stream",
     "text": [
      "/Users/baojiaqi/Downloads/notebooks_export/.venv/lib/python3.11/site-packages/sklearn/linear_model/_logistic.py:469: ConvergenceWarning: lbfgs failed to converge (status=1):\n",
      "STOP: TOTAL NO. of ITERATIONS REACHED LIMIT.\n",
      "\n",
      "Increase the number of iterations (max_iter) or scale the data as shown in:\n",
      "    https://scikit-learn.org/stable/modules/preprocessing.html\n",
      "Please also refer to the documentation for alternative solver options:\n",
      "    https://scikit-learn.org/stable/modules/linear_model.html#logistic-regression\n",
      "  n_iter_i = _check_optimize_result(\n"
     ]
    },
    {
     "name": "stdout",
     "output_type": "stream",
     "text": [
      "text2vec W1 with Token Set 1 Acc:  0.7341024198086663\n",
      "Glove W2 with Token Set 2 Acc:  0.7003302146395157\n",
      "SGNS W2 with Token Set 2 Acc:  0.6970280682443588\n",
      "SVD W2 k1 g0 with Token Set 2 Acc:  0.7025316455696202\n",
      "SVD W2 k5 g0 with Token Set 2 Acc:  0.682443588332416\n",
      "PPMI W2 k1 with Token Set 2 Acc:  0.7179416620803523\n",
      "PPMI W2 k5 with Token Set 2 Acc:  0.7176664832140892\n",
      "Onehot W2 with Token Set 2 Acc:  0.71326362135388\n"
     ]
    },
    {
     "name": "stderr",
     "output_type": "stream",
     "text": [
      "/Users/baojiaqi/Downloads/notebooks_export/.venv/lib/python3.11/site-packages/sklearn/linear_model/_logistic.py:469: ConvergenceWarning: lbfgs failed to converge (status=1):\n",
      "STOP: TOTAL NO. of ITERATIONS REACHED LIMIT.\n",
      "\n",
      "Increase the number of iterations (max_iter) or scale the data as shown in:\n",
      "    https://scikit-learn.org/stable/modules/preprocessing.html\n",
      "Please also refer to the documentation for alternative solver options:\n",
      "    https://scikit-learn.org/stable/modules/linear_model.html#logistic-regression\n",
      "  n_iter_i = _check_optimize_result(\n"
     ]
    },
    {
     "name": "stdout",
     "output_type": "stream",
     "text": [
      "text2vec W2 with Token Set 2 Acc:  0.7220693450742983\n",
      "\n",
      "Using Classifier: KNeighbors\n",
      "Glove W1 with Token Set 1 Acc:  0.6789532920652785\n",
      "SGNS W1 with Token Set 1 Acc:  0.6631963984243107\n",
      "SVD W1 k1 g0 with Token Set 1 Acc:  0.6857062464828363\n",
      "SVD W1 k5 g0 with Token Set 1 Acc:  0.6699493528418683\n",
      "PPMI W1 k1 with Token Set 1 Acc:  0.6845807540799099\n",
      "PPMI W1 k5 with Token Set 1 Acc:  0.6713562183455262\n",
      "Onehot W1 with Token Set 1 Acc:  0.6637591446257738\n",
      "text2vec W1 with Token Set 1 Acc:  0.6769836803601575\n",
      "Glove W2 with Token Set 2 Acc:  0.6788662630709962\n",
      "SGNS W2 with Token Set 2 Acc:  0.6730875068794716\n",
      "SVD W2 k1 g0 with Token Set 2 Acc:  0.6788662630709962\n",
      "SVD W2 k5 g0 with Token Set 2 Acc:  0.6469455145844799\n",
      "PPMI W2 k1 with Token Set 2 Acc:  0.6730875068794716\n",
      "PPMI W2 k5 with Token Set 2 Acc:  0.6505228398458999\n",
      "Onehot W2 with Token Set 2 Acc:  0.6576774903687397\n",
      "text2vec W2 with Token Set 2 Acc:  0.6706108970831041\n"
     ]
    }
   ],
   "source": [
    "\n",
    "# Iterate over classifiers\n",
    "for classifier_name, classifier in classifiers.items():\n",
    "    print(f\"\\nUsing Classifier: {classifier_name}\")\n",
    "    # Iterate over embeddings\n",
    "    for embedding_name, embedding in embeddings.items():\n",
    "        # Iterate over data sets\n",
    "        for data_set_name, (tokens, sentiments) in data_sets.items():\n",
    "            if 'W1' in embedding_name:\n",
    "                if '2' in data_set_name:\n",
    "                    continue\n",
    "            if 'W2' in embedding_name:\n",
    "                if '1' in data_set_name:\n",
    "                    continue\n",
    "            test_accuracy = preprocess_docs(tokens, embedding,sentiments, top_words, classifier)\n",
    "            print(f\"{embedding_name} with {data_set_name} Acc:  {test_accuracy}\")\n"
   ]
  },
  {
   "cell_type": "markdown",
   "metadata": {},
   "source": [
    "## embedding bias"
   ]
  },
  {
   "cell_type": "markdown",
   "metadata": {},
   "source": [
    "#### here is the complete list of target words and attribute words we selected"
   ]
  },
  {
   "cell_type": "code",
   "execution_count": 143,
   "metadata": {},
   "outputs": [],
   "source": [
    "acting_related_words2trans={\n",
    "    '表演':'acting', \n",
    "    '演技':'acting',\n",
    "    '主演':'leading actor',\n",
    "    #'演绎':'interpretation',\n",
    "    '演出':'performance',\n",
    "    '演绎':'interpretation',\n",
    "    '演员':'actor',\n",
    "}\n",
    "writing_related_words2trans={\n",
    "    '剧本':'script',\n",
    "    '剧情':'plot',\n",
    "    '情节':'plot',\n",
    "    '编剧':'screenwriter',\n",
    "    '节奏':'pace',\n",
    "    '套路':'formula',\n",
    "    '故事':'story',\n",
    "    '故事情节':'storyline',\n",
    "    #'衔接':'transition',\n",
    "    '衔接':'transition',\n",
    "    '台词':'lines',  \n",
    "}\n",
    "\n",
    "look_related_words2trans={\n",
    "'衣服':'clothes',\n",
    "'服装':'costume',\n",
    "'颜值':'look'}  #'姑娘':'girl','少女':'girl' } #'姑娘':'girl','少女':'girl'}\n",
    "\n",
    "\n",
    "director_related_words2trans={ \n",
    " '拍摄':'shooting',\n",
    "'摄影':'cinematography',\n",
    "'镜头':'shot',\n",
    " '导演':'director',\n",
    " '剪辑':'editing', \n",
    " '长镜头': 'long shot', #长镜头\n",
    " '水准':'level', #水准\n",
    " '功力':'skill',} #功力\n",
    "\n",
    "life_related_words2trans={\n",
    "            '青春':'youth',\n",
    "            '爱情':'love',\n",
    "            '成长':'growth',\n",
    "            \n",
    "            '现实':'reality',\n",
    "            #'结局':'ending',\n",
    "            '结局':'ending',\n",
    "            '成长':'grow',\n",
    "            '人生':'life',\n",
    "           \n",
    "            '梦想':'dream',\n",
    "            '选择':'choice',\n",
    "            #'珍惜':'cherish',\n",
    "            '珍惜':'cherish',\n",
    "            '触动':'touching',\n",
    "            #'温暖':'warm',\n",
    "            '温暖':'warm',\n",
    "           '眼泪':'tears'}\n",
    "           \n",
    "pos_words2trans={\n",
    "    '四星':'four stars',\n",
    "    '五星':'five stars',\n",
    "    '好评':'good review',\n",
    "    '不错':'good',\n",
    "    '值得':'worth',\n",
    "    '推荐':'recommend',\n",
    "    '喜欢':'like',\n",
    "    '满意':'satisfied',\n",
    "    '满分':'full marks',\n",
    "    '加一星':'add one star',\n",
    "    '五分':'five points',\n",
    "    '厉害':'awesome',\n",
    "}\n",
    "\n",
    "neg_words2trans={\n",
    "    '一星':'one star',\n",
    "    '一分':'one point',\n",
    "    '不行':'bad',\n",
    "    '不好':'bad',\n",
    "    '低分':'low score',\n",
    "    '糟糕':'terrible',\n",
    "    '难看':'ugly',\n",
    "    '还行':'so-so',\n",
    "    '普通':'ordinary',\n",
    "    '缺乏':'lack of',\n",
    "    '毫无':'nothing',\n",
    "}\n",
    "\n",
    "\n",
    "attributes = {\n",
    "    'negative': neg_words2trans,\n",
    "    'positive': pos_words2trans,\n",
    "}\n",
    "\n",
    "targets ={\n",
    "    'acting': acting_related_words2trans,\n",
    "    'writing': writing_related_words2trans,\n",
    "    'directing': director_related_words2trans,\n",
    "    'appearance':look_related_words2trans,\n",
    "    'life':life_related_words2trans,\n",
    "}\n",
    "\n",
    "\n",
    "target2color={'acting': '#1f77b4','writing': '#ff7f0e','directing': '#2ca02c','appearance': '#d62728','life': '#9467bd'}\n",
    "target2loc= {'acting':-0.1, 'writing':-0.05, 'directing':0, 'appearance':0.05, 'life':0.1}\n",
    "    \n",
    "#let merges look_related_words2trans, director_related_words2trans, writing_related_words2trans,acting_related_words2trans in one dictionary\n",
    "all_target_words2trans = {**acting_related_words2trans, **writing_related_words2trans,**director_related_words2trans, **look_related_words2trans,**life_related_words2trans}"
   ]
  },
  {
   "cell_type": "markdown",
   "metadata": {},
   "source": [
    "### gender projection"
   ]
  },
  {
   "cell_type": "markdown",
   "metadata": {},
   "source": [
    "#### here is the 5 gender pair words"
   ]
  },
  {
   "cell_type": "code",
   "execution_count": 154,
   "metadata": {},
   "outputs": [],
   "source": [
    "gender_pairs=[['男人', '女人'], ['男生','女生'], ['男生','姑娘'], ['男生','少女' ], ['男生','妹子']  ]\n",
    "# let's write a english translation for the above chinese words\n",
    "english_translations =[['male','female'], ['boy','girl'],['boy','girl'], ['boy','girl'],['boy','girl'] ]"
   ]
  },
  {
   "cell_type": "code",
   "execution_count": 166,
   "metadata": {},
   "outputs": [],
   "source": [
    "def draw_2_dimen(W1,title,return_var=False):\n",
    "    gender_directions=[]\n",
    "    for gender_pair in gender_pairs:\n",
    "        gender_direction= W1[gender_pair[0]]-W1[gender_pair[1]]\n",
    "        gender_directions.append(gender_direction)\n",
    " \n",
    "\n",
    "    gender_directions = np.array(gender_directions).T\n",
    "  \n",
    "    pca = PCA(n_components=5,random_state=0)\n",
    "    #do PCA on gender_directions\n",
    "    vectors_reduced = pca.fit_transform(gender_directions)\n",
    "    pc1= vectors_reduced[:,0]\n",
    "    print(1-cosine(W1['男生'],pc1) )\n",
    "    if (1-cosine(W1['男生'],pc1) )<0:\n",
    "        pc1=-pc1\n",
    "    var_explained = pca.explained_variance_ratio_\n",
    "    \n",
    "    if return_var:\n",
    "        return var_explained[0]\n",
    "    \n",
    "    print(var_explained)\n",
    "\n",
    "    \n",
    "    gender_direction_W1 = pc1\n",
    "\n",
    "    \n",
    "    targe2point = {}\n",
    "        \n",
    "    for target, target_words2trans in targets.items():\n",
    "        targe2point[target]={}\n",
    "        for word, translation in target_words2trans.items():\n",
    "            word_embedding = W1[word]\n",
    "            random_projection = target2loc[target]\n",
    "            gender_projection = 1-cosine(gender_direction_W1, word_embedding)\n",
    "            targe2point[target][word]= [random_projection , gender_projection]\n",
    "    \n",
    "    \n",
    "    plt.figure(figsize=(6, 6))\n",
    "    for target, target_words2point in targe2point.items():\n",
    "            plt.scatter([target_words2point[word][0] for word in target_words2point ],\n",
    "                        [target_words2point[word][1] for word in target_words2point ]\n",
    "                        , c= target2color[target], label=target)\n",
    "           \n",
    "            for word in target_words2point:\n",
    "                plt.text(target_words2point[word][0]+0.005, target_words2point[word][1]+0.001,targets[target][word], size=5)\n",
    "            \n",
    "            \n",
    " \n",
    "    min_p = min([point[0] for target_words2point in targe2point.values() for point in target_words2point.values()])\n",
    "    max_p= max([point[0] for target_words2point in targe2point.values() for point in target_words2point.values()])\n",
    "    limit_x = max(abs(min_p),abs(max_p))\n",
    "    \n",
    "    min_p = min([point[1] for target_words2point in targe2point.values() for point in target_words2point.values()])\n",
    "    max_p= max([point[1] for target_words2point in targe2point.values() for point in target_words2point.values()])\n",
    "    limit_y = max(abs(min_p),abs(max_p))\n",
    "\n",
    "    plt.ylim(-limit_y-0.02,limit_y+0.02)\n",
    "    plt.xlim(-limit_x-0.02,limit_x+0.02)\n",
    "\n",
    "    plt.xlabel(\"target class\") \n",
    "    plt.ylabel(\"female                   gender projection                        male\")\n",
    "\n",
    "    plt.grid(True)\n",
    "    # change it to dash line\n",
    "    plt.axhline(0, color='red', linestyle='--')\n",
    "    #plt.axvline(0, color='red')\n",
    "    plt.legend(fontsize=5,loc='lower left')\n",
    "    plt.title(title)\n",
    "    plt.savefig(title+'.jpg',  bbox_inches='tight', dpi=200)\n",
    "    plt.show()\n",
    "    \n",
    "   \n",
    "        "
   ]
  },
  {
   "cell_type": "code",
   "execution_count": 160,
   "metadata": {},
   "outputs": [
    {
     "name": "stdout",
     "output_type": "stream",
     "text": [
      "-0.8004384944778999\n",
      "-0.8187950171398108\n",
      "-0.7176980829253785\n",
      "-0.7484166061991888\n",
      "0.8104871095178824\n",
      "0.8637895603602883\n",
      "0.8944271909999159\n",
      "0.5620629960742622\n",
      "0.8425989212605485\n",
      "-0.7935069136077977\n",
      "-0.7525977201683665\n",
      "-0.46856863320251074\n",
      "0.8057641326695787\n",
      "0.7968309401919849\n",
      "0.8944271909999159\n",
      "0.5620629960742622\n"
     ]
    },
    {
     "data": {
      "text/plain": [
       "{'Glove W1': 0.4101864185431029,\n",
       " 'SGNS W1': 0.6628259137624947,\n",
       " 'SVD W1 k1 g0': 0.5189191477304333,\n",
       " 'SVD W1 k5 g0': 0.6022481043408157,\n",
       " 'PPMI W1 k1': 0.4995393427662842,\n",
       " 'PPMI W1 k5': 0.5997305330865708,\n",
       " 'Onehot W1': 0.49999999999999994,\n",
       " 'text2vec W1': 0.7227834,\n",
       " 'Glove W2': 0.6678244884538365,\n",
       " 'SGNS W2': 0.6168630451005258,\n",
       " 'SVD W2 k1 g0': 0.5168457363070729,\n",
       " 'SVD W2 k5 g0': 0.5455129008262566,\n",
       " 'PPMI W2 k1': 0.4854257313539837,\n",
       " 'PPMI W2 k5': 0.5070937525738272,\n",
       " 'Onehot W2': 0.49999999999999994,\n",
       " 'text2vec W2': 0.7227834}"
      ]
     },
     "execution_count": 160,
     "metadata": {},
     "output_type": "execute_result"
    }
   ],
   "source": [
    "embedding2var_explained={}\n",
    "for embedding_name, embedding in embeddings.items():\n",
    "    var_explained = draw_2_dimen(embedding,embedding_name,return_var=True)\n",
    "    embedding2var_explained[embedding_name]=var_explained\n",
    "embedding2var_explained"
   ]
  },
  {
   "cell_type": "code",
   "execution_count": 165,
   "metadata": {},
   "outputs": [
    {
     "name": "stdout",
     "output_type": "stream",
     "text": [
      "0.5390054534984696\n",
      "0.6398444794315102\n",
      "0.5178824420187531\n",
      "0.5738805025835361\n",
      "0.49248253706013395\n",
      "0.553412142830199\n"
     ]
    }
   ],
   "source": [
    "embedding_method='Glove'\n",
    "print(np.mean([embedding2var_explained[embedding_name] for embedding_name in embedding2var_explained if embedding_method in embedding_name ]))\n",
    "\n",
    "embedding_method='SGNS'\n",
    "print(np.mean([embedding2var_explained[embedding_name] for embedding_name in embedding2var_explained if embedding_method in embedding_name ]))\n",
    "\n",
    "embedding_method='SVD'\n",
    "embedding_method1='k1'\n",
    "print(np.mean([embedding2var_explained[embedding_name] for embedding_name in embedding2var_explained if embedding_method in embedding_name and embedding_method1 in embedding_name]))\n",
    "\n",
    "\n",
    "embedding_method='SVD'\n",
    "embedding_method1='k5'\n",
    "print(np.mean([embedding2var_explained[embedding_name] for embedding_name in embedding2var_explained if embedding_method in embedding_name and embedding_method1 in embedding_name]))\n",
    "\n",
    "\n",
    "embedding_method='PPMI'\n",
    "embedding_method1='k1'\n",
    "print(np.mean([embedding2var_explained[embedding_name] for embedding_name in embedding2var_explained if embedding_method in embedding_name and embedding_method1 in embedding_name]))\n",
    "\n",
    "\n",
    "embedding_method='PPMI'\n",
    "embedding_method1='k5'\n",
    "print(np.mean([embedding2var_explained[embedding_name] for embedding_name in embedding2var_explained if embedding_method in embedding_name and embedding_method1 in embedding_name]))"
   ]
  },
  {
   "cell_type": "code",
   "execution_count": 168,
   "metadata": {},
   "outputs": [
    {
     "name": "stdout",
     "output_type": "stream",
     "text": [
      "-0.8187950171398108\n",
      "[0.66282591 0.13253837 0.09635442 0.06489934 0.04338197]\n"
     ]
    },
    {
     "data": {
      "image/png": "[encoded data removed]",
      "text/plain": [
       "<Figure size 600x600 with 1 Axes>"
      ]
     },
     "metadata": {},
     "output_type": "display_data"
    }
   ],
   "source": [
    "draw_2_dimen(W1_sgns,title='corpus_1')"
   ]
  },
  {
   "cell_type": "code",
   "execution_count": 169,
   "metadata": {},
   "outputs": [
    {
     "name": "stdout",
     "output_type": "stream",
     "text": [
      "-0.7935069136077977\n",
      "[0.61686305 0.1182055  0.11402836 0.09109241 0.05981069]\n"
     ]
    },
    {
     "data": {
      "image/png": "[encoded data removed]",
      "text/plain": [
       "<Figure size 600x600 with 1 Axes>"
      ]
     },
     "metadata": {},
     "output_type": "display_data"
    }
   ],
   "source": [
    "draw_2_dimen(W2_sgns,title='corpus_2')"
   ]
  },
  {
   "cell_type": "code",
   "execution_count": 170,
   "metadata": {},
   "outputs": [
    {
     "name": "stdout",
     "output_type": "stream",
     "text": [
      "0.5620629960742622\n",
      "[0.7227834  0.1125209  0.09297527 0.0545007  0.01721961]\n"
     ]
    },
    {
     "data": {
      "image/png": "[encoded data removed]",
      "text/plain": [
       "<Figure size 600x600 with 1 Axes>"
      ]
     },
     "metadata": {},
     "output_type": "display_data"
    }
   ],
   "source": [
    "draw_2_dimen(W_text2vec,title='text2vec')"
   ]
  },
  {
   "cell_type": "markdown",
   "metadata": {},
   "source": [
    "### aspect based sentiment comparision by WEAT test"
   ]
  },
  {
   "cell_type": "code",
   "execution_count": 33,
   "metadata": {},
   "outputs": [],
   "source": [
    "def average_embedding(embeddings, words):\n",
    "    valid_embeddings = []\n",
    "    for word in words:\n",
    "        if word in embeddings:\n",
    "            valid_embeddings.append(embeddings[word])\n",
    "    embedding_array = np.array(valid_embeddings)\n",
    "    averaged_embedding = np.mean(embedding_array, axis=0)\n",
    "    \n",
    "    return averaged_embedding\n",
    "\n",
    "def average_distance(set1, set2, embeddings, distance_type='euclidean'):\n",
    "    distances = []\n",
    "    for word1 in set1:\n",
    "        for word2 in set2:\n",
    "            if word1 in embeddings and word2 in embeddings:\n",
    "                if distance_type == 'euclidean':\n",
    "                    normalized_word1 = embeddings[word1] / np.linalg.norm(embeddings[word1])\n",
    "                    normalized_word2 = embeddings[word2] / np.linalg.norm(embeddings[word2])\n",
    "                    dist = euclidean(normalized_word1,normalized_word2)\n",
    "                elif distance_type == 'cosine':\n",
    "                    dist = 1-cosine(embeddings[word1], embeddings[word2])\n",
    "                distances.append(dist)\n",
    "    return np.mean(distances)\n"
   ]
  },
  {
   "cell_type": "code",
   "execution_count": 34,
   "metadata": {},
   "outputs": [
    {
     "name": "stdout",
     "output_type": "stream",
     "text": [
      "Average cosine distance between acting and negative words: 0.035817648703812995\n",
      "Average cosine distance between acting and positive words: 0.11767443611193622\n",
      "Average cosine distance between writing and negative words: 0.05088096447059686\n",
      "Average cosine distance between writing and positive words: 0.05873290989991676\n",
      "Average cosine distance between directing and negative words: 0.07279005859564806\n",
      "Average cosine distance between directing and positive words: 0.10642669149401121\n",
      "Average cosine distance between look and negative words: 0.055127265893572655\n",
      "Average cosine distance between look and positive words: 0.1265034403673057\n",
      "Average cosine distance between life and negative words: -0.11481713687223001\n",
      "Average cosine distance between life and positive words: -0.09289515058321422\n"
     ]
    }
   ],
   "source": [
    "for targ in targets:\n",
    "    for attr in attributes:\n",
    "        dist = average_distance(targets[targ], attributes[attr], W2_glove, distance_type='cosine')\n",
    "        print(f\"Average cosine distance between {targ} and {attr} words: {dist}\")"
   ]
  },
  {
   "cell_type": "code",
   "execution_count": 120,
   "metadata": {},
   "outputs": [],
   "source": [
    "def word_embedding_association_test(related_words2trans, embedding,neg_words2trans,pos_words2trans):\n",
    "    pos_words = list(pos_words2trans.keys())\n",
    "    neg_words = list(neg_words2trans.keys())\n",
    "    related_words = list(related_words2trans.keys())\n",
    "    word_lst=[]\n",
    "    for word in related_words:\n",
    "        pos_lst =[]\n",
    "        for pos in  pos_words:\n",
    "           \n",
    "            dist =1- cosine(embedding[word], embedding[pos])\n",
    "            pos_lst.append(dist)\n",
    "        pos_avg  = np.array(pos_lst).mean()\n",
    "        \n",
    "        neg_lst =[]\n",
    "        for neg in  neg_words:\n",
    "            \n",
    "            \n",
    "            dist = 1-cosine(embedding[word], embedding[neg])\n",
    "            neg_lst.append(dist)\n",
    "        neg_avg  = np.array(neg_lst).mean()\n",
    "        \n",
    "        word_lst.append(pos_avg-neg_avg) \n",
    "          \n",
    "    return (word_lst)\n",
    "        \n",
    "def weat_stats(word_lst1,word_lst2):\n",
    "    mean_diff = sum(word_lst1)/len(word_lst1) - sum(word_lst2)/len(word_lst2)\n",
    "    std  = np.std(word_lst1 +  word_lst2)\n",
    "    return mean_diff, mean_diff/std\n",
    "\n",
    "\n",
    "def word_embedding_association_test_pval(related_words2trans,embedding1,embedding2 ,neg_words2trans,pos_words2trans,test_stats,seed=9):\n",
    "    \n",
    "    #for p in range(permutations):\n",
    "        # let's generate binary random variable of lenth words\n",
    "    words = list(related_words2trans.keys())\n",
    "    np.random.seed(seed)\n",
    "    binary = np.random.choice([0,1],len(words))\n",
    "   \n",
    "    words1= [words[i] for i,x  in enumerate(binary) if x==1]\n",
    "    #words2= [word for i, word  in enumerate(binary) if binary[i]==0]\n",
    "    pos_words = list(pos_words2trans.keys())\n",
    "    neg_words = list(neg_words2trans.keys())\n",
    "    \n",
    "    word_lst1=[]\n",
    "    word_lst2=[]\n",
    "    for word in words:\n",
    "        if word in words1:\n",
    "            pos_lst =[]\n",
    "            for pos in  pos_words:\n",
    "                dist =1- cosine(embedding1[word], embedding1[pos])\n",
    "                pos_lst.append(dist)\n",
    "            pos_avg  = np.array(pos_lst).mean()\n",
    "\n",
    "            neg_lst =[]\n",
    "            for neg in  neg_words:\n",
    "                dist = 1-cosine(embedding1[word], embedding1[neg])\n",
    "                neg_lst.append(dist)\n",
    "            neg_avg  = np.array(neg_lst).mean()\n",
    "\n",
    "            word_lst1.append(pos_avg-neg_avg)\n",
    "            \n",
    "            pos_lst =[]\n",
    "            for pos in  pos_words:\n",
    "                dist =1- cosine(embedding1[word], embedding2[pos])\n",
    "                pos_lst.append(dist)\n",
    "            pos_avg  = np.array(pos_lst).mean()\n",
    "\n",
    "            neg_lst =[]\n",
    "            for neg in  neg_words:\n",
    "                dist = 1-cosine(embedding1[word], embedding2[neg])\n",
    "                neg_lst.append(dist)\n",
    "            neg_avg  = np.array(neg_lst).mean()\n",
    "\n",
    "            word_lst2.append(pos_avg-neg_avg)\n",
    "            \n",
    "        else:\n",
    "            pos_lst =[]\n",
    "            for pos in  pos_words:\n",
    "                dist =1- cosine(embedding2[word], embedding1[pos])\n",
    "                pos_lst.append(dist)\n",
    "            pos_avg  = np.array(pos_lst).mean()\n",
    "\n",
    "            neg_lst =[]\n",
    "            for neg in  neg_words:\n",
    "                dist = 1-cosine(embedding2[word], embedding1[neg])\n",
    "                neg_lst.append(dist)\n",
    "            neg_avg  = np.array(neg_lst).mean()\n",
    "\n",
    "            word_lst1.append(pos_avg-neg_avg)\n",
    "            \n",
    "            pos_lst =[]\n",
    "            for pos in  pos_words:\n",
    "                dist =1- cosine(embedding2[word], embedding2[pos])\n",
    "                pos_lst.append(dist)\n",
    "            pos_avg  = np.array(pos_lst).mean()\n",
    "\n",
    "            neg_lst =[]\n",
    "            for neg in  neg_words:\n",
    "                dist = 1-cosine(embedding2[word], embedding2[neg])\n",
    "                neg_lst.append(dist)\n",
    "            neg_avg  = np.array(neg_lst).mean()\n",
    "\n",
    "            word_lst2.append(pos_avg-neg_avg)\n",
    "            \n",
    "    weat_statistics, effective_size = weat_stats(word_lst1,word_lst2)\n",
    "    \n",
    "    \n",
    "    if weat_statistics>0:\n",
    "        if  test_stats >(weat_statistics):\n",
    "            return 1\n",
    "        else:\n",
    "            return 0\n",
    "    else:\n",
    "        if  test_stats < (weat_statistics):\n",
    "            return 1\n",
    "        else:\n",
    "            return 0\n",
    "        \n",
    "\n",
    "def compute_p_value(target,test_stats, embedding1, embedding2, neg_words2trans,pos_words2trans,  permutations=10000):\n",
    "    count=0\n",
    "    for p in range(permutations):\n",
    "        cur = word_embedding_association_test_pval(targets[target], embedding1,embedding2, neg_words2trans,pos_words2trans,test_stats,seed=p)\n",
    "        count+=cur\n",
    "  \n",
    "    return float(count)/float(permutations)\n",
    "    "
   ]
  },
  {
   "cell_type": "code",
   "execution_count": 126,
   "metadata": {},
   "outputs": [
    {
     "name": "stdout",
     "output_type": "stream",
     "text": [
      "-1.412480788538305 for acting with Glove\n",
      "p-value for acting with Glove: 0.553\n",
      "-1.0369951199813443 for writing with Glove\n",
      "p-value for writing with Glove: 0.878\n",
      "-0.8704579133181991 for directing with Glove\n",
      "p-value for directing with Glove: 0.639\n",
      "0.6333336487092508 for look with Glove\n",
      "p-value for look with Glove: 0.631\n",
      "-0.41530731738582205 for life with Glove\n",
      "p-value for life with Glove: 0.497\n"
     ]
    }
   ],
   "source": [
    "for target in targets:\n",
    "        word_lst1  =   word_embedding_association_test(targets[target], W1_glove, neg_words2trans,pos_words2trans )\n",
    "        word_lst2  =   word_embedding_association_test(targets[target], W2_glove, neg_words2trans,pos_words2trans) \n",
    "        weat_statsitics, effective_size=  weat_stats(word_lst1,word_lst2)\n",
    "        print(f\"{effective_size} for {target} with Glove\")\n",
    "        p_val=  compute_p_value(target,weat_statsitics, W1_glove,W2_glove, neg_words2trans,pos_words2trans,   permutations=1000)\n",
    "        print(f\"p-value for {target} with Glove: {p_val}\")\n",
    "        \n",
    "        "
   ]
  },
  {
   "cell_type": "code",
   "execution_count": 150,
   "metadata": {},
   "outputs": [
    {
     "name": "stdout",
     "output_type": "stream",
     "text": [
      "-0.43062279910147305 for acting with SGNS\n",
      "p-value for acting with SGNS: 0.029\n",
      "0.019696263429010923 for writing with SGNS\n",
      "p-value for writing with SGNS: 0.013\n",
      "-0.5076062078469354 for directing with SGNS\n",
      "p-value for directing with SGNS: 0.131\n",
      "-0.45733240166077405 for appearance with SGNS\n",
      "p-value for appearance with SGNS: 0.123\n",
      "0.10168814523053857 for life with SGNS\n",
      "p-value for life with SGNS: 0.061\n"
     ]
    }
   ],
   "source": [
    "for target in targets:\n",
    "        word_lst1  =   word_embedding_association_test(targets[target], W1_sgns, neg_words2trans,pos_words2trans)\n",
    "        word_lst2  =   word_embedding_association_test(targets[target], W2_sgns, neg_words2trans,pos_words2trans)  \n",
    "        weat_statsitics, effective_size=  weat_stats(word_lst1,word_lst2)\n",
    "        \n",
    "       \n",
    "        print(f\"{effective_size} for {target} with SGNS\")\n",
    "        p_val=  compute_p_value(target,weat_statsitics, W1_sgns,W2_sgns, neg_words2trans,pos_words2trans,   permutations=1000)\n",
    "        print(f\"p-value for {target} with SGNS: {p_val}\")\n",
    "        "
   ]
  },
  {
   "cell_type": "code",
   "execution_count": 128,
   "metadata": {},
   "outputs": [
    {
     "name": "stdout",
     "output_type": "stream",
     "text": [
      "-0.44933813039041853 for acting with SVD\n",
      "p-value for acting with SVD: 0.311\n",
      "-0.040704058935419556 for writing with SVD\n",
      "p-value for writing with SVD: 0.011\n",
      "-1.0989162869092701 for directing with SVD\n",
      "p-value for directing with SVD: 0.618\n",
      "0.6579552743286305 for look with SVD\n",
      "p-value for look with SVD: 0.25\n",
      "-0.9797948794740354 for life with SVD\n",
      "p-value for life with SVD: 0.85\n"
     ]
    }
   ],
   "source": [
    "for target in targets:\n",
    "        word_lst1  =   word_embedding_association_test(targets[target], W1_svd_k1_g0, neg_words2trans,pos_words2trans)\n",
    "        word_lst2  =   word_embedding_association_test(targets[target], W2_svd_k1_g0, neg_words2trans,pos_words2trans)\n",
    "        weat_statsitics, effective_size=  weat_stats(word_lst1,word_lst2)\n",
    "        \n",
    "       \n",
    "        print(f\"{effective_size} for {target} with SVD\")\n",
    "        p_val=  compute_p_value(target,weat_statsitics, W1_svd_k1_g0,W2_svd_k1_g0, neg_words2trans,pos_words2trans,   permutations=1000)\n",
    "        print(f\"p-value for {target} with SVD: {p_val}\")"
   ]
  },
  {
   "cell_type": "code",
   "execution_count": 129,
   "metadata": {},
   "outputs": [
    {
     "name": "stdout",
     "output_type": "stream",
     "text": [
      "-1.0963143631963834 for acting with PPMI\n",
      "p-value for acting with PPMI: 0.683\n",
      "-0.682041294393175 for writing with PPMI\n",
      "p-value for writing with PPMI: 0.866\n",
      "-1.3360679653009904 for directing with PPMI\n",
      "p-value for directing with PPMI: 1.0\n",
      "0.6116879696501816 for look with PPMI\n",
      "p-value for look with PPMI: 0.472\n",
      "-1.2215334812339704 for life with PPMI\n",
      "p-value for life with PPMI: 1.0\n"
     ]
    }
   ],
   "source": [
    "for target in targets:\n",
    "        word_lst1  =   word_embedding_association_test(targets[target], W1_ppmi_k1, neg_words2trans,pos_words2trans)\n",
    "        word_lst2  =   word_embedding_association_test(targets[target], W2_ppmi_k1, neg_words2trans,pos_words2trans)\n",
    "        weat_statsitics, effective_size=  weat_stats(word_lst1,word_lst2)\n",
    "        \n",
    "       \n",
    "        print(f\"{effective_size} for {target} with PPMI\")\n",
    "        p_val=  compute_p_value(target,weat_statsitics, W1_ppmi_k1,W2_ppmi_k1, neg_words2trans,pos_words2trans,   permutations=1000)\n",
    "        print(f\"p-value for {target} with PPMI: {p_val}\")"
   ]
  },
  {
   "cell_type": "markdown",
   "metadata": {},
   "source": [
    "## retrieve similar words"
   ]
  },
  {
   "cell_type": "code",
   "execution_count": 192,
   "metadata": {},
   "outputs": [],
   "source": [
    "def find_top_similar(word, embeddings, distance_type='cosine', topn=10):\n",
    "    word_embedding = embeddings[word]\n",
    "    # Compute the distance of the given word to all other words\n",
    "    distances = []\n",
    "    for other_word, other_embedding in embeddings.items():\n",
    "        if other_word != word:\n",
    "            if distance_type == 'cosine':\n",
    "                distance = cosine(word_embedding, other_embedding)\n",
    "            elif distance_type == 'euclidean':\n",
    "                normalized_word1 = word_embedding / np.linalg.norm(word_embedding)\n",
    "                normalized_word2 = other_embedding / np.linalg.norm(other_embedding)\n",
    "                \n",
    "                distance = euclidean(normalized_word1, normalized_word2 )\n",
    "            distances.append((other_word, distance))\n",
    "\n",
    "    top_similar = sorted(distances, key=lambda x: x[1])[:topn]\n",
    "    return top_similar"
   ]
  },
  {
   "cell_type": "code",
   "execution_count": 36,
   "metadata": {},
   "outputs": [
    {
     "data": {
      "text/plain": [
       "[('情节', 0.405610744061209),\n",
       " ('内容', 0.46660473612488096),\n",
       " ('逻辑', 0.47491344328051177),\n",
       " ('唯美', 0.47896169969866886),\n",
       " ('比较', 0.4847413144249),\n",
       " ('浮夸', 0.4908956875515621),\n",
       " ('狗血', 0.5031261026610796),\n",
       " ('有些', 0.5039838699459458),\n",
       " ('部分', 0.510724912539275),\n",
       " ('其他', 0.5183485402975929)]"
      ]
     },
     "execution_count": 36,
     "metadata": {},
     "output_type": "execute_result"
    }
   ],
   "source": [
    "find_top_similar('剧情', W1_sgns, distance_type='cosine', topn=10)"
   ]
  },
  {
   "cell_type": "markdown",
   "metadata": {},
   "source": [
    "## word clustering"
   ]
  },
  {
   "cell_type": "code",
   "execution_count": 182,
   "metadata": {},
   "outputs": [],
   "source": [
    "from sklearn.cluster import KMeans\n",
    "from sklearn.metrics.cluster import normalized_mutual_info_score"
   ]
  },
  {
   "cell_type": "code",
   "execution_count": 188,
   "metadata": {},
   "outputs": [],
   "source": [
    "embedding_name2nmi={}\n",
    "for embedding_name, embedding in embeddings.items():\n",
    "    selected_W= {word: embedding[word] for word in all_target_words2trans}\n",
    "    words = list(selected_W.keys())\n",
    "    word2label=[]\n",
    "    # let's get the true label of word, which is their target\n",
    "    for w in words:\n",
    "        for t in targets:\n",
    "            if w in targets[t]:\n",
    "                word2label.append(t)\n",
    "                break\n",
    "    vectors = np.array([selected_W[word] for word in words])\n",
    "    \n",
    "    pca = PCA(n_components=2)\n",
    "    vectors_reduced = pca.fit_transform(vectors)\n",
    "    \n",
    "    \n",
    "    # let's run k-means with k=4 on the reduced vectors\n",
    "    pred_labels = KMeans(n_clusters=5, random_state=0).fit(vectors_reduced)\n",
    "    embedding_name2nmi[embedding_name]=normalized_mutual_info_score(word2label, pred_labels.labels_)\n",
    "\n",
    "    "
   ]
  },
  {
   "cell_type": "code",
   "execution_count": 189,
   "metadata": {},
   "outputs": [
    {
     "data": {
      "text/plain": [
       "{'Glove W1': 0.28947933264562115,\n",
       " 'SGNS W1': 0.44552082620559624,\n",
       " 'SVD W1 k1 g0': 0.38176251582282816,\n",
       " 'SVD W1 k5 g0': 0.24610739644600318,\n",
       " 'PPMI W1 k1': 0.5583848409759649,\n",
       " 'PPMI W1 k5': 0.3012365714981836,\n",
       " 'Onehot W1': 0.1117181904204849,\n",
       " 'text2vec W1': 0.44963555009643513,\n",
       " 'Glove W2': 0.389679969581196,\n",
       " 'SGNS W2': 0.4483703021481254,\n",
       " 'SVD W2 k1 g0': 0.42955122437624793,\n",
       " 'SVD W2 k5 g0': 0.4283671306185103,\n",
       " 'PPMI W2 k1': 0.5325791372736154,\n",
       " 'PPMI W2 k5': 0.27449467560056223,\n",
       " 'Onehot W2': 0.14188654919710444,\n",
       " 'text2vec W2': 0.44963555009643513}"
      ]
     },
     "execution_count": 189,
     "metadata": {},
     "output_type": "execute_result"
    }
   ],
   "source": [
    "embedding_name2nmi"
   ]
  },
  {
   "cell_type": "code",
   "execution_count": 193,
   "metadata": {},
   "outputs": [],
   "source": [
    "W1= W1_ppmi_k1\n",
    "W2= W2_ppmi_k1\n",
    "selected_W1= {word: W1[word] for word in all_target_words2trans}\n",
    "selected_W2 = {word: W2[word] for word in all_target_words2trans}\n",
    "\n",
    "\n",
    "words = list(selected_W1.keys())\n",
    "vectors = np.array([selected_W1[word] for word in words])\n",
    "\n",
    "# Apply PCA\n",
    "pca = PCA(n_components=2)\n",
    "vectors_reduced = pca.fit_transform(vectors)\n",
    "word2vec={}\n",
    "for word, vec in  zip(words, vectors_reduced):\n",
    "    word2vec[word]=vec\n",
    "    \n",
    "    \n",
    "targe2point={}\n",
    "for target, target_words2trans in targets.items():\n",
    "        targe2point[target]={}\n",
    "        \n",
    "        for word, translation in target_words2trans.items():\n",
    "            targe2point[target][word]=[word2vec[word][0], word2vec[word][1]]"
   ]
  },
  {
   "cell_type": "code",
   "execution_count": 195,
   "metadata": {},
   "outputs": [
    {
     "data": {
      "image/png": "[encoded data removed]",
      "text/plain": [
       "<Figure size 640x480 with 1 Axes>"
      ]
     },
     "metadata": {},
     "output_type": "display_data"
    }
   ],
   "source": [
    "\n",
    "for target, target_words2point in targe2point.items():\n",
    "        plt.scatter([target_words2point[word][0] for word in target_words2point ],\n",
    "                        [target_words2point[word][1] for word in target_words2point ]\n",
    "                        , c= target2color[target], label=target)\n",
    "           \n",
    "        for word in target_words2point:\n",
    "                plt.text(target_words2point[word][0], target_words2point[word][1],targets[target][word], size=5)\n",
    "\n",
    "plt.title(\"corpus 1\")\n",
    "plt.xlabel(\"PCA Component 1\")\n",
    "plt.ylabel(\"PCA Component 2\")\n",
    "\n",
    "plt.grid(True)\n",
    "plt.legend()\n",
    "plt.savefig('tinytimes.jpg',  bbox_inches='tight', dpi=200)"
   ]
  },
  {
   "cell_type": "code",
   "execution_count": 196,
   "metadata": {},
   "outputs": [
    {
     "data": {
      "image/png": "[encoded data removed]",
      "text/plain": [
       "<Figure size 640x480 with 1 Axes>"
      ]
     },
     "metadata": {},
     "output_type": "display_data"
    }
   ],
   "source": [
    "words = list(selected_W2.keys())\n",
    "vectors = np.array([selected_W2[word] for word in words])\n",
    "\n",
    "# Apply PCA\n",
    "pca = PCA(n_components=2)\n",
    "vectors_reduced = pca.fit_transform(vectors)\n",
    "word2vec={}\n",
    "for word, vec in  zip(words, vectors_reduced):\n",
    "    word2vec[word]=vec\n",
    "    \n",
    "    \n",
    "targe2point={}\n",
    "for target, target_words2trans in targets.items():\n",
    "        targe2point[target]={}\n",
    "        \n",
    "        for word, translation in target_words2trans.items():\n",
    "            \n",
    "            targe2point[target][word]=[word2vec[word][0], word2vec[word][1]]\n",
    "            \n",
    "            \n",
    "\n",
    "for target, target_words2point in targe2point.items():\n",
    "        plt.scatter([target_words2point[word][0] for word in target_words2point ],\n",
    "                        [target_words2point[word][1] for word in target_words2point ]\n",
    "                        , c= target2color[target], label=target)\n",
    "           \n",
    "        for word in target_words2point:\n",
    "                plt.text(target_words2point[word][0], target_words2point[word][1],targets[target][word], size=5)\n",
    "\n",
    "plt.title(\"corpus 2\")\n",
    "plt.xlabel(\"PCA Component 1\")\n",
    "plt.ylabel(\"PCA Component 2\")\n",
    "plt.grid(True)\n",
    "plt.legend()\n",
    "plt.savefig('lalaland.jpg',  bbox_inches='tight', dpi=200)"
   ]
  },
  {
   "cell_type": "code",
   "execution_count": null,
   "metadata": {},
   "outputs": [
    {
     "name": "stdout",
     "output_type": "stream",
     "text": [
      "Top words for column 1:\n",
      "编剧\n",
      "台词\n",
      "节奏\n",
      "无聊\n",
      "电影院\n",
      "毫无\n",
      "逻辑\n",
      "文艺\n",
      "青春\n",
      "审美\n",
      "\n",
      "\n",
      "Top words for column 5:\n",
      "镜头\n",
      "突兀\n",
      "剪辑\n",
      "梦幻\n",
      "温暖\n",
      "触动\n",
      "眼泪\n",
      "逻辑\n",
      "审美\n",
      "荧幕\n",
      "\n",
      "\n",
      "Top words for column 2:\n",
      "配乐\n",
      "镜头\n",
      "制作\n",
      "拍摄\n",
      "梦幻\n",
      "剪辑\n",
      "导演\n",
      "文艺\n",
      "青春\n",
      "审美\n",
      "\n",
      "\n",
      "Top words for column 4:\n",
      "梦想\n",
      "珍惜\n",
      "演技\n",
      "颜值\n",
      "突兀\n",
      "选择\n",
      "成长\n",
      "演员\n",
      "审美\n",
      "逻辑\n",
      "\n",
      "\n",
      "Top words for column 0:\n",
      "节奏\n",
      "导演\n",
      "颜值\n",
      "拍摄\n",
      "画面\n",
      "演技\n",
      "镜头\n",
      "演员\n",
      "剪辑\n",
      "配乐\n",
      "\n",
      "\n"
     ]
    }
   ],
   "source": [
    "words = list(selected_W2.keys())\n",
    "vectors = np.array([selected_W2[word] for word in words])\n",
    "\n",
    "number_of_components = 20\n",
    "pca = PCA(n_components=number_of_components)\n",
    "vectors_reduced = pca.fit_transform(vectors)\n",
    "\n",
    "#let's get the column of vectors_reduced that are most sparse\n",
    "\n",
    "def compute_sparsity(column_vector):\n",
    "    # let's compute the sparsity of this column vector\n",
    "    participate_ratio= np.sum(column_vector**4)\n",
    "    return participate_ratio\n",
    "\n",
    "Topn = 5\n",
    "# let's compute the sparsity of each column\n",
    "columns_sparsity= [compute_sparsity(vectors_reduced[:,i]) for i in range(number_of_components)]\n",
    "# let's get the top n most sparse columns\n",
    "top_n_sparse_columns= np.argsort(columns_sparsity)[-Topn:]\n",
    "# let's get the Top k words that are higest weighted for each column in the top n most sparse columns\n",
    "Topk=10\n",
    "for column_index in top_n_sparse_columns:\n",
    "    print(f\"Top words for column {column_index}:\")\n",
    "    top_w_words = np.argsort(vectors_reduced[:,column_index])[-Topk:]\n",
    "    for word_index in top_w_words:\n",
    "        print(words[word_index])\n",
    "    print(\"\\n\")\n",
    "\n"
   ]
  }
 ],
 "metadata": {
  "kernelspec": {
   "display_name": ".venv",
   "language": "python",
   "name": "python3"
  },
  "language_info": {
   "codemirror_mode": {
    "name": "ipython",
    "version": 3
   },
   "file_extension": ".py",
   "mimetype": "text/x-python",
   "name": "python",
   "nbconvert_exporter": "python",
   "pygments_lexer": "ipython3",
   "version": "3.11.4"
  },
  "orig_nbformat": 4
 },
 "nbformat": 4,
 "nbformat_minor": 2
}
